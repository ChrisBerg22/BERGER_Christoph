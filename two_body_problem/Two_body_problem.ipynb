{
 "cells": [
  {
   "cell_type": "markdown",
   "metadata": {},
   "source": [
    "GlowScript 3.0 VPython\n",
    "\n",
    "coded in trinket.io\n",
    "\n",
    "G=6.6e-11\n",
    "m1=8e30\n",
    "m2=2e30 # earth\n",
    "rdist=2e10\n",
    "M=m1+m2\n",
    "x1=-(m2/M)*rdist\n",
    "x2=(m1/M)*rdist\n",
    "\n",
    "star1=sphere(pos=vector(x1,0,0), radius=2e9, color=color.yellow, make_trail=True)\n",
    "star2=sphere(pos=vector(x2,0,0), radius=8e8, color=color.cyan, make_trail=True)\n",
    "com = sphere(pos=(star1.pos*m1+star2.pos*m2)/M, radius=2e8)\n",
    "r=star2.pos-star1.pos\n",
    "v1circle=sqrt(G*m2*mag(star1.pos)/mag(r)**2)\n",
    "\n",
    "star1.v=vector(0,0.5*v1circle,0)\n",
    "star1.p=m1*star1.v\n",
    "star2.p=-star1.p # because of momentum conservation\n",
    "\n",
    "mu=m1*m2/M\n",
    "l=mag(cross(star1.pos,star1.p)+cross(star2.pos,star2.p))\n",
    "\n",
    "t=0\n",
    "dt=1000\n",
    "while t<2e6:\n",
    "  rate(100)\n",
    "  r=star2.pos-star1.pos\n",
    "  F2=-G*m1*m2*norm(r)/mag(r)**2\n",
    "  star2.p=star2.p+F2*dt\n",
    "  star1.p=star1.p-F2*dt\n",
    "  star1.pos=star1.pos+star1.p*dt/m1\n",
    "  star2.pos=star2.pos+star2.p*dt/m2\n",
    "  t=t+dt"
   ]
  }
 ],
 "metadata": {
  "kernelspec": {
   "display_name": "Python 3",
   "language": "python",
   "name": "python3"
  },
  "language_info": {
   "codemirror_mode": {
    "name": "ipython",
    "version": 3
   },
   "file_extension": ".py",
   "mimetype": "text/x-python",
   "name": "python",
   "nbconvert_exporter": "python",
   "pygments_lexer": "ipython3",
   "version": "3.8.10"
  }
 },
 "nbformat": 4,
 "nbformat_minor": 4
}
